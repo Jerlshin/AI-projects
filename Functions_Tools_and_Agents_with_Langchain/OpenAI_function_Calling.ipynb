{
 "cells": [
  {
   "cell_type": "markdown",
   "metadata": {},
   "source": [
    "### Outline\n",
    "\n",
    "* OpenAI function calling\n",
    "* Langchain Expression Language (LCEL)\n",
    "* OpenAI function calling in Langchain\n",
    "* Tagging and extraction using OpenAI function calling\n",
    "* Tools and Routing\n",
    "* Conversational Agent\n"
   ]
  },
  {
   "cell_type": "markdown",
   "metadata": {},
   "source": []
  }
 ],
 "metadata": {
  "language_info": {
   "name": "python"
  }
 },
 "nbformat": 4,
 "nbformat_minor": 2
}
